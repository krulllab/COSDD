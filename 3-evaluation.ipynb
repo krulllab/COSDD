{
 "cells": [
  {
   "cell_type": "markdown",
   "metadata": {},
   "source": [
    "# Calculating PSNR for denoised results"
   ]
  },
  {
   "cell_type": "code",
   "execution_count": null,
   "metadata": {},
   "outputs": [],
   "source": [
    "import os\n",
    "\n",
    "import tifffile\n",
    "from skimage.metrics import peak_signal_noise_ratio as PSNR\n",
    "import numpy as np\n",
    "import matplotlib.pyplot as plt"
   ]
  },
  {
   "cell_type": "markdown",
   "metadata": {},
   "source": [
    "### Load denoised images"
   ]
  },
  {
   "cell_type": "code",
   "execution_count": null,
   "metadata": {},
   "outputs": [],
   "source": [
    "model_name = \"convallaria\"\n",
    "mmse_file = os.path.join(\"results\", model_name, \"MMSEs.tif\")\n",
    "mmse_data = tifffile.imread(mmse_file)\n",
    "samples_file = os.path.join(\"results\", model_name, \"samples.tif\")\n",
    "samples_data = tifffile.imread(samples_file)"
   ]
  },
  {
   "cell_type": "markdown",
   "metadata": {},
   "source": [
    "### Load ground truth data\n",
    "In this example, the ground truth is obtained by averaging the noisy dataset."
   ]
  },
  {
   "cell_type": "code",
   "execution_count": null,
   "metadata": {},
   "outputs": [],
   "source": [
    "data_path = \"data/flower.tif\"\n",
    "low_snr = tifffile.imread(data_path).astype(float)[:, np.newaxis, :512, :512]\n",
    "gt_data = low_snr.mean(axis=0, keepdims=True)\n",
    "gt_data = gt_data.repeat(low_snr.shape[0], axis=0)"
   ]
  },
  {
   "cell_type": "code",
   "execution_count": null,
   "metadata": {},
   "outputs": [],
   "source": [
    "psnrs = []\n",
    "data_range = np.max(gt_data) - np.min(gt_data)\n",
    "for i in range(len(mmse_data)):\n",
    "    gt = gt_data[i]\n",
    "    test = mmse_data[i]\n",
    "\n",
    "    psnrs.append(PSNR(gt, test, data_range=data_range.item()))\n",
    "\n",
    "print(f\"PSNR: {np.mean(psnrs)}\")\n"
   ]
  },
  {
   "cell_type": "markdown",
   "metadata": {},
   "source": [
    "### Visualize results"
   ]
  },
  {
   "cell_type": "code",
   "execution_count": null,
   "metadata": {},
   "outputs": [],
   "source": [
    "idx = 0\n",
    "img_patch = (0, slice(200, 300), slice(200, 300))\n",
    "\n",
    "fig, ax = plt.subplots(2, 2)\n",
    "\n",
    "ax[0, 0].imshow(low_snr[idx][img_patch], cmap=\"inferno\")\n",
    "ax[0, 0].set_title(\"Low SNR\")\n",
    "ax[0, 0].axis(\"off\")   \n",
    "\n",
    "ax[0, 1].imshow(gt_data[idx][img_patch], cmap=\"inferno\")\n",
    "ax[0, 1].set_title(\"Ground Truth\")\n",
    "ax[0, 1].axis(\"off\")\n",
    "\n",
    "ax[1, 0].imshow(mmse_data[idx][img_patch], cmap=\"inferno\")\n",
    "ax[1, 0].set_title(\"MMSE\")\n",
    "ax[1, 0].axis(\"off\")\n",
    "\n",
    "\n",
    "ax[1, 1].imshow(samples_data[0][idx][img_patch], cmap=\"inferno\")\n",
    "ax[1, 1].set_title(\"Sample\")\n",
    "ax[1, 1].axis(\"off\")\n",
    "\n",
    "plt.tight_layout()"
   ]
  },
  {
   "cell_type": "code",
   "execution_count": null,
   "metadata": {},
   "outputs": [],
   "source": []
  }
 ],
 "metadata": {
  "kernelspec": {
   "display_name": "ml",
   "language": "python",
   "name": "python3"
  },
  "language_info": {
   "codemirror_mode": {
    "name": "ipython",
    "version": 3
   },
   "file_extension": ".py",
   "mimetype": "text/x-python",
   "name": "python",
   "nbconvert_exporter": "python",
   "pygments_lexer": "ipython3",
   "version": "3.10.13"
  }
 },
 "nbformat": 4,
 "nbformat_minor": 2
}
